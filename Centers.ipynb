{
 "cells": [
  {
   "cell_type": "code",
   "execution_count": 1,
   "metadata": {
    "collapsed": true
   },
   "outputs": [],
   "source": [
    "from __future__ import print_function, division\n",
    "import SimpleITK as sitk\n",
    "import numpy as np\n",
    "import csv\n",
    "from glob import glob\n",
    "import pandas as pd\n",
    "import os"
   ]
  },
  {
   "cell_type": "code",
   "execution_count": 2,
   "metadata": {
    "collapsed": true
   },
   "outputs": [],
   "source": [
    "# List of image files\n",
    "luna_path = 'D:/Data/LUNA16/'\n",
    "luna_subset_path = luna_path+\"subset0/\"\n",
    "output_path = \"D:/Data/LUNA16/output/\"\n",
    "file_list=glob(luna_subset_path+\"*.mhd\")\n",
    "\n",
    "def get_filename(file_list, case):\n",
    "    for f in file_list:\n",
    "        if case in f:\n",
    "            return(f)\n",
    "\n",
    "df_node = pd.read_csv(luna_path+\"annotations.csv\")\n",
    "df_node[\"file\"] = df_node[\"seriesuid\"].map(lambda file_name: get_filename(file_list, file_name))\n",
    "df_node = df_node.dropna()"
   ]
  },
  {
   "cell_type": "code",
   "execution_count": 23,
   "metadata": {
    "collapsed": true
   },
   "outputs": [
    {
     "name": "stderr",
     "output_type": "stream",
     "text": [
      "C:\\Users\\Phantom77anto\\Anaconda2\\lib\\site-packages\\ipykernel\\__main__.py:44: VisibleDeprecationWarning: using a non-integer number instead of an integer will result in an error in the future\n"
     ]
    },
    {
     "ename": "KeyboardInterrupt",
     "evalue": "",
     "output_type": "error",
     "traceback": [
      "\u001b[0;31m---------------------------------------------------------------------------\u001b[0m",
      "\u001b[0;31mKeyboardInterrupt\u001b[0m                         Traceback (most recent call last)",
      "\u001b[0;32m<ipython-input-23-89f5805610ef>\u001b[0m in \u001b[0;36m<module>\u001b[0;34m()\u001b[0m\n\u001b[1;32m     35\u001b[0m     \u001b[1;32mif\u001b[0m \u001b[0mmini_df\u001b[0m\u001b[1;33m.\u001b[0m\u001b[0mshape\u001b[0m\u001b[1;33m[\u001b[0m\u001b[1;36m0\u001b[0m\u001b[1;33m]\u001b[0m\u001b[1;33m>\u001b[0m\u001b[1;36m0\u001b[0m\u001b[1;33m:\u001b[0m\u001b[1;33m\u001b[0m\u001b[0m\n\u001b[1;32m     36\u001b[0m         \u001b[0mitk_img\u001b[0m \u001b[1;33m=\u001b[0m \u001b[0msitk\u001b[0m\u001b[1;33m.\u001b[0m\u001b[0mReadImage\u001b[0m\u001b[1;33m(\u001b[0m\u001b[0mfilename\u001b[0m\u001b[1;33m)\u001b[0m\u001b[1;33m\u001b[0m\u001b[0m\n\u001b[0;32m---> 37\u001b[0;31m         \u001b[0mimg_array\u001b[0m \u001b[1;33m=\u001b[0m \u001b[0msitk\u001b[0m\u001b[1;33m.\u001b[0m\u001b[0mGetArrayFromImage\u001b[0m\u001b[1;33m(\u001b[0m\u001b[0mitk_img\u001b[0m\u001b[1;33m)\u001b[0m\u001b[1;33m\u001b[0m\u001b[0m\n\u001b[0m\u001b[1;32m     38\u001b[0m         \u001b[0mimg_array\u001b[0m \u001b[1;33m=\u001b[0m \u001b[0mnp\u001b[0m\u001b[1;33m.\u001b[0m\u001b[0mswapaxes\u001b[0m\u001b[1;33m(\u001b[0m\u001b[0mimg_array\u001b[0m\u001b[1;33m,\u001b[0m\u001b[1;36m0\u001b[0m\u001b[1;33m,\u001b[0m\u001b[1;36m2\u001b[0m\u001b[1;33m)\u001b[0m\u001b[1;33m\u001b[0m\u001b[0m\n\u001b[1;32m     39\u001b[0m \u001b[1;33m\u001b[0m\u001b[0m\n",
      "\u001b[0;32mC:\\Users\\Phantom77anto\\Anaconda2\\lib\\site-packages\\SimpleITK\\SimpleITK.pyc\u001b[0m in \u001b[0;36mGetArrayFromImage\u001b[0;34m(image)\u001b[0m\n\u001b[1;32m    317\u001b[0m     \u001b[1;32massert\u001b[0m \u001b[0mpixelID\u001b[0m \u001b[1;33m!=\u001b[0m \u001b[0msitkUnknown\u001b[0m\u001b[1;33m,\u001b[0m \u001b[1;34m\"An SimpleITK image of Unknow pixel type should now exists!\"\u001b[0m\u001b[1;33m\u001b[0m\u001b[0m\n\u001b[1;32m    318\u001b[0m \u001b[1;33m\u001b[0m\u001b[0m\n\u001b[0;32m--> 319\u001b[0;31m     \u001b[0mdtype\u001b[0m \u001b[1;33m=\u001b[0m \u001b[0m_get_numpy_dtype\u001b[0m\u001b[1;33m(\u001b[0m \u001b[0mimage\u001b[0m \u001b[1;33m)\u001b[0m\u001b[1;33m\u001b[0m\u001b[0m\n\u001b[0m\u001b[1;32m    320\u001b[0m \u001b[1;33m\u001b[0m\u001b[0m\n\u001b[1;32m    321\u001b[0m     \u001b[0marr\u001b[0m \u001b[1;33m=\u001b[0m \u001b[0mnumpy\u001b[0m\u001b[1;33m.\u001b[0m\u001b[0mfrombuffer\u001b[0m\u001b[1;33m(\u001b[0m\u001b[0mimageByteArray\u001b[0m\u001b[1;33m,\u001b[0m \u001b[0mdtype\u001b[0m \u001b[1;33m)\u001b[0m\u001b[1;33m\u001b[0m\u001b[0m\n",
      "\u001b[0;32mC:\\Users\\Phantom77anto\\Anaconda2\\lib\\site-packages\\SimpleITK\\SimpleITK.pyc\u001b[0m in \u001b[0;36m_get_numpy_dtype\u001b[0;34m(sitkImage)\u001b[0m\n\u001b[1;32m    215\u001b[0m \u001b[1;33m\u001b[0m\u001b[0m\n\u001b[1;32m    216\u001b[0m     \u001b[1;31m# this is a mapping from sitk's pixel id to numpy's dtype\u001b[0m\u001b[1;33m\u001b[0m\u001b[1;33m\u001b[0m\u001b[0m\n\u001b[0;32m--> 217\u001b[0;31m     _sitk_np = {sitkUInt8:numpy.uint8,\n\u001b[0m\u001b[1;32m    218\u001b[0m                 \u001b[0msitkUInt16\u001b[0m\u001b[1;33m:\u001b[0m\u001b[0mnumpy\u001b[0m\u001b[1;33m.\u001b[0m\u001b[0muint16\u001b[0m\u001b[1;33m,\u001b[0m\u001b[1;33m\u001b[0m\u001b[0m\n\u001b[1;32m    219\u001b[0m                 \u001b[0msitkUInt32\u001b[0m\u001b[1;33m:\u001b[0m\u001b[0mnumpy\u001b[0m\u001b[1;33m.\u001b[0m\u001b[0muint32\u001b[0m\u001b[1;33m,\u001b[0m\u001b[1;33m\u001b[0m\u001b[0m\n",
      "\u001b[0;31mKeyboardInterrupt\u001b[0m: "
     ]
    }
   ],
   "source": [
    "def getframe(v_center):\n",
    "    dimx1, dimx2, dimy1, dimy2 = 0,0,0,0\n",
    "    if (v_center[0]-20)<0:\n",
    "        dimx1, dimx2 = 0, 40\n",
    "    elif (v_center[0]+20)>img_array.shape[0]:\n",
    "        dimx1, dimx2 = img_array.shape[0]-40, img_array.shape[0] \n",
    "    else: \n",
    "        dimx1, dimx2 = v_center[0]-20, v_center[0]+20\n",
    "\n",
    "    if (v_center[1]-20)<0:\n",
    "        dimy1, dimy2 = 0, 40\n",
    "    elif (v_center[1]+20)>img_array.shape[1]:\n",
    "        dimy1, dimy2 = img_array.shape[1]-40, img_array.shape[1]\n",
    "    else: \n",
    "        dimy1, dimy2 = v_center[1]-20, v_center[1]+20\n",
    "    \n",
    "    return dimx1,dimx2,dimy1,dimy2\n",
    "\n",
    "def getnoduleinfo(cur_row):\n",
    "    node_x = cur_row[\"coordX\"]\n",
    "    node_y = cur_row[\"coordY\"]\n",
    "    node_z = cur_row[\"coordZ\"]\n",
    "    \n",
    "    center = np.array([node_x, node_y, node_z])\n",
    "    origin = np.array(itk_img.GetOrigin())      # x,y,x in mm real world location? what point does this correspond to in the CT????\n",
    "    spacing = np.array(itk_img.GetSpacing())\n",
    "    v_center = np.rint((center-origin)/spacing)\n",
    "    \n",
    "    return center,origin,spacing,v_center\n",
    "\n",
    "nodulecenterlist = list()\n",
    "\n",
    "for filename in file_list:\n",
    "    mini_df = df_node[df_node[\"file\"]==filename]\n",
    "    if mini_df.shape[0]>0:\n",
    "        itk_img = sitk.ReadImage(filename) \n",
    "        img_array = sitk.GetArrayFromImage(itk_img)\n",
    "        img_array = np.swapaxes(img_array,0,2)\n",
    "        \n",
    "        for node_idx, cur_row in mini_df.iterrows():       \n",
    "            center,origin,spacing,v_center = getnoduleinfo(cur_row)\n",
    "            nodulecenterlist.append((filename),v_center)\n",
    "            \n",
    "            \n",
    "            #frame = np.zeros((40,40,3))\n",
    "            #dimx1,dimx2,dimy1,dimy2 = getframe(v_center)\n",
    "            #frame = img_array[dimx1:dimx2,dimy1:dimy2,v_center[2]-1:v_center[2]+2]\n",
    "            #nodulearrays.append(frame)\n"
   ]
  },
  {
   "cell_type": "code",
   "execution_count": null,
   "metadata": {
    "collapsed": true
   },
   "outputs": [],
   "source": []
  },
  {
   "cell_type": "code",
   "execution_count": null,
   "metadata": {
    "collapsed": true
   },
   "outputs": [],
   "source": []
  },
  {
   "cell_type": "code",
   "execution_count": null,
   "metadata": {
    "collapsed": true
   },
   "outputs": [],
   "source": []
  },
  {
   "cell_type": "code",
   "execution_count": null,
   "metadata": {
    "collapsed": true
   },
   "outputs": [],
   "source": []
  }
 ],
 "metadata": {
  "anaconda-cloud": {},
  "kernelspec": {
   "display_name": "Python [conda root]",
   "language": "python",
   "name": "conda-root-py"
  },
  "language_info": {
   "codemirror_mode": {
    "name": "ipython",
    "version": 2
   },
   "file_extension": ".py",
   "mimetype": "text/x-python",
   "name": "python",
   "nbconvert_exporter": "python",
   "pygments_lexer": "ipython2",
   "version": "2.7.12"
  }
 },
 "nbformat": 4,
 "nbformat_minor": 1
}
